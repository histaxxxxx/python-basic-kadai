{
  "nbformat": 4,
  "nbformat_minor": 0,
  "metadata": {
    "colab": {
      "provenance": [],
      "toc_visible": true
    },
    "kernelspec": {
      "name": "python3",
      "display_name": "Python 3"
    },
    "language_info": {
      "name": "python"
    }
  },
  "cells": [
    {
      "cell_type": "markdown",
      "source": [
        "# 新しいセクション"
      ],
      "metadata": {
        "id": "f7TY0HfL0q-S"
      }
    },
    {
      "cell_type": "code",
      "source": [
        "num = 50\n",
        "\n",
        "# 変数numが10より大きいなら、文字列を出力する\n",
        "if 10 < num:\n",
        "    print(\"変数numは10より大きいです\")\n",
        "\n",
        "# 変数numが20より小さいなら、文字列を出力する\n",
        "if num < 20:\n",
        "    print(\"変数numは20より小さいです\")"
      ],
      "metadata": {
        "id": "TnD9TbM_xVC3",
        "colab": {
          "base_uri": "https://localhost:8080/"
        },
        "outputId": "c48ee670-f535-440c-a671-de18032e8a01"
      },
      "execution_count": 1,
      "outputs": [
        {
          "output_type": "stream",
          "name": "stdout",
          "text": [
            "変数numは10より大きいです\n"
          ]
        }
      ]
    },
    {
      "cell_type": "code",
      "source": [
        "print(45 + 18) # 算術演算子を使った場合の戻り値を出力する\n",
        "print(45 > 18) # 比較演算子を使った場合の戻り値を出力する\n",
        "\n",
        "\n",
        "print(\"5\" == 5)\n",
        "\n",
        "\n",
        "num1 = 5\n",
        "num2 = \"5\"\n",
        "\n",
        "if num1 == int(num2):\n",
        "    print(\"num1とnum2は等しいです\")"
      ],
      "metadata": {
        "colab": {
          "base_uri": "https://localhost:8080/"
        },
        "id": "4ZAyj2x_vwuk",
        "outputId": "f8bfdda3-88aa-4f68-fbc2-c78eedd85af0"
      },
      "execution_count": 5,
      "outputs": [
        {
          "output_type": "stream",
          "name": "stdout",
          "text": [
            "63\n",
            "True\n",
            "False\n",
            "num1とnum2は等しいです\n"
          ]
        }
      ]
    },
    {
      "cell_type": "code",
      "source": [
        "#ランダムな整数を利用するために、randomモジュールをインポート\n",
        "import random\n",
        "\n",
        "# 変数numに0～4までのランダムな整数を代入する\n",
        "num = random.randint(0, 4)\n",
        "\n",
        "# 変数numの値を出力\n",
        "print(num)\n",
        "\n",
        "# 変数numの値が4であれば、「大当たりです」という文字列を出力する\n",
        "if num == 4:\n",
        "    print(\"大当たりです\")\n",
        "\n",
        "\n",
        "\n",
        "    #ランダムな整数を利用するために、randomモジュールをインポート\n",
        "import random\n",
        "\n",
        "# 変数numに0～4までのランダムな整数を代入する\n",
        "num = random.randint(0, 4)\n",
        "\n",
        "# 変数numの値を出力\n",
        "print(num)\n",
        "\n",
        "# 変数numの値が4なら「大当たりです」、それ以外なら「はずれです」と出力する\n",
        "if num == 4:\n",
        "    print(\"大当たりです\")\n",
        "else:\n",
        "    print(\"はずれです\")\n",
        "\n",
        "\n",
        "\n",
        "    #ランダムな整数を利用するために、randomモジュールをインポート\n",
        "import random\n",
        "\n",
        "# 変数numに0～4までのランダムな整数を代入する\n",
        "num = random.randint(0, 4)\n",
        "\n",
        "# 変数numの値を出力\n",
        "print(num)\n",
        "\n",
        "# 変数numの値が4なら「大当たりです」、3なら「当たりです」、それ以外なら「はずれです」と出力する\n",
        "if num == 4:\n",
        "    print(\"大当たりです\")\n",
        "elif num == 3:\n",
        "    print(\"当たりです\")\n",
        "else:\n",
        "    print(\"はずれです\")"
      ],
      "metadata": {
        "colab": {
          "base_uri": "https://localhost:8080/"
        },
        "id": "bWTNOBxsx4Dj",
        "outputId": "89598732-76b4-4c02-f67c-7508a669fd82"
      },
      "execution_count": 39,
      "outputs": [
        {
          "output_type": "stream",
          "name": "stdout",
          "text": [
            "3\n",
            "1\n",
            "はずれです\n",
            "3\n",
            "当たりです\n"
          ]
        }
      ]
    },
    {
      "cell_type": "code",
      "source": [
        "#ランダムな整数を利用するために、randomモジュールをインポート\n",
        "import random\n",
        "\n",
        "# 変数numに0～4までのランダムな整数を代入する\n",
        "num = random.randint(0, 4)\n",
        "\n",
        "# 変数numの値を出力\n",
        "print(num)\n",
        "\n",
        "# すべての条件が成り立つ場合にのみ処理を行う（変数numの値が2）\n",
        "if 1 < num and num < 3:\n",
        "    print(\"変数numは1より大きく、3より小さいです\")\n",
        "else:\n",
        "    print(\"and条件が成り立ちませんでした\")\n",
        "\n",
        "# 1つでも条件が成り立てば処理を行う（変数numの値が1または3）\n",
        "if num == 1 or num == 3:\n",
        "    print(\"変数numは1または3です\")\n",
        "else:\n",
        "    print(\"or条件が成り立ちませんでした\")"
      ],
      "metadata": {
        "colab": {
          "base_uri": "https://localhost:8080/"
        },
        "id": "LP8R57JDy-GL",
        "outputId": "3d5b21c0-8fb2-48da-f7e5-dd2238e3d7a8"
      },
      "execution_count": 52,
      "outputs": [
        {
          "output_type": "stream",
          "name": "stdout",
          "text": [
            "2\n",
            "変数numは1より大きく、3より小さいです\n",
            "or条件が成り立ちませんでした\n"
          ]
        }
      ]
    },
    {
      "cell_type": "markdown",
      "source": [
        "# 新しいセクション"
      ],
      "metadata": {
        "id": "pLSH3QLNxV5P"
      }
    },
    {
      "cell_type": "code",
      "source": [
        "\n",
        "var = 15\n",
        "\n",
        "\n",
        "if var % 3 == 0 and var % 5 == 0:\n",
        "    print(\"FizzBuzz\")\n",
        "elif var % 3 == 0:\n",
        "    print(\"Fizz\")\n",
        "elif var % 5 == 0:\n",
        "    print(\"Buzz\")\n",
        "else:\n",
        "    print(var)\n"
      ],
      "metadata": {
        "colab": {
          "base_uri": "https://localhost:8080/"
        },
        "id": "e81mIbSi0ZlT",
        "outputId": "c1060856-2690-4bce-b9ff-98687b510ed4"
      },
      "execution_count": 55,
      "outputs": [
        {
          "output_type": "stream",
          "name": "stdout",
          "text": [
            "FizzBuzz\n"
          ]
        }
      ]
    },
    {
      "cell_type": "markdown",
      "source": [
        "# 新しいセクション"
      ],
      "metadata": {
        "id": "jNBW0kFBuY5q"
      }
    },
    {
      "cell_type": "code",
      "source": [
        "# リスト（array）の作成\n",
        "array = [\n",
        "    \"月曜日は晴れです\",\n",
        "    \"火曜日は雨です\",\n",
        "    \"水曜日は晴れです\",\n",
        "    \"木曜日は晴れです\",\n",
        "    \"金曜日は曇りです\",\n",
        "    \"土曜日は曇りのち雨です\",\n",
        "    \"日曜日は雷雨です\"\n",
        "]\n",
        "\n",
        "# ディクショナリ（dictionary）の作成\n",
        "dictionary = {\n",
        "    \"mon\": \"晴れ\",\n",
        "    \"tue\": \"雨\",\n",
        "    \"wed\": \"晴れ\",\n",
        "    \"thu\": \"晴れ\",\n",
        "    \"fri\": \"曇り\",\n",
        "    \"sat\": \"曇りのち雨\",\n",
        "    \"sun\": \"雷雨\"\n",
        "}\n",
        "\n",
        "# 水曜日の天気予報を取り出して出力\n",
        "print(array[2])           # リストから\n",
        "print(\"水曜日は\" + dictionary[\"wed\"] + \"です\")  # ディクショナリから\n"
      ],
      "metadata": {
        "id": "jIL0fKFm4rm6",
        "colab": {
          "base_uri": "https://localhost:8080/"
        },
        "outputId": "7aeb6efc-40a1-4e5f-8f02-7c7cc90e050d"
      },
      "execution_count": null,
      "outputs": [
        {
          "output_type": "stream",
          "name": "stdout",
          "text": [
            "水曜日は晴れです\n",
            "水曜日は晴れです\n"
          ]
        }
      ]
    },
    {
      "cell_type": "code",
      "source": [
        "user_names = [\"侍太郎\", \"侍一郎\", \"侍二郎\", \"侍三郎\", \"侍四郎\"]\n",
        "\n",
        "# 6番目の要素を追加する\n",
        "user_names.append(\"侍五郎\")\n",
        "print(user_names)\n",
        "\n",
        "# 3番目の要素を削除する\n",
        "user_names.pop(2) # 0始まりのため、3番目のインデックスは2\n",
        "print(user_names)"
      ],
      "metadata": {
        "colab": {
          "base_uri": "https://localhost:8080/"
        },
        "id": "3gyEb7JJ45yV",
        "outputId": "71e10639-5edf-4158-db91-630bf9912ace"
      },
      "execution_count": null,
      "outputs": [
        {
          "output_type": "stream",
          "name": "stdout",
          "text": [
            "['侍太郎', '侍一郎', '侍二郎', '侍三郎', '侍四郎', '侍五郎']\n",
            "['侍太郎', '侍一郎', '侍三郎', '侍四郎', '侍五郎']\n"
          ]
        }
      ]
    },
    {
      "cell_type": "code",
      "source": [
        "user_names = [\"侍太郎\", \"侍一郎\", \"侍二郎\", \"侍三郎\", \"侍四郎\"]\n",
        "\n",
        "print(user_names[1]) # 2番目の要素だけを表示\n",
        "\n",
        "user_names[1] = \"侍花子\" # 2番目の要素を更新\n",
        "print(user_names)\n",
        "\n",
        "user_names.append(\"侍五郎\") # 6番目の要素を追加\n",
        "print(user_names)\n",
        "\n",
        "user_names.pop(2) # 3番目の要素を削除（0始まりのため2を指定）\n",
        "print(user_names)"
      ],
      "metadata": {
        "colab": {
          "base_uri": "https://localhost:8080/"
        },
        "id": "eJMFqG4l5EYW",
        "outputId": "258bab3e-6c2a-4936-fc7c-dd0ac3684975"
      },
      "execution_count": null,
      "outputs": [
        {
          "output_type": "stream",
          "name": "stdout",
          "text": [
            "侍一郎\n",
            "['侍太郎', '侍花子', '侍二郎', '侍三郎', '侍四郎']\n",
            "['侍太郎', '侍花子', '侍二郎', '侍三郎', '侍四郎', '侍五郎']\n",
            "['侍太郎', '侍花子', '侍三郎', '侍四郎', '侍五郎']\n"
          ]
        }
      ]
    },
    {
      "cell_type": "code",
      "source": [
        "country_names = (\"日本\", \"アメリカ\", \"イギリス\", \"フランス\" )\n",
        "\n",
        "# 3番目の要素である「イギリス」という文字列だけを取り出す\n",
        "print(country_names[2])\n",
        "\n",
        "\n",
        "country_names = (\"日本\", \"アメリカ\", \"イギリス\", \"フランス\" )\n",
        "\n",
        "# 3番目の要素を取り出す\n",
        "print(country_names[2])\n",
        "\n",
        "# すべての要素を取り出す\n",
        "print(country_names)\n",
        "\n",
        "\n",
        "country_names = {\"アメリカ\", \"イギリス\", \"日本\", \"フランス\"}\n",
        "\n",
        "# セット全体を表示\n",
        "print(country_names)\n",
        "\n",
        "# 1～10までに含まれる素数のセット（2と5が重複）\n",
        "prime_numbers = {2, 5, 2, 7, 3, 5, 5 }\n",
        "\n",
        "# セット全体を表示\n",
        "print(prime_numbers)\n",
        "\n",
        "\n",
        "# 1～10までに含まれる素数のセット\n",
        "prime_numbers = {2, 3, 5, 7}\n",
        "\n",
        "# セット全体を表示\n",
        "print(prime_numbers)\n",
        "\n",
        "# セットの3番目の要素を表示 ⇒ できないためエラー\n",
        "print(prime_numbers[2])\n",
        "\n",
        "\n",
        "\n",
        "# 1～10までに含まれる素数のセット\n",
        "prime_numbers = {2, 3, 5, 7}\n",
        "\n",
        "# セット全体を表示\n",
        "print(prime_numbers)\n",
        "\n",
        "prime_numbers.add(11) # 11をセットに追加\n",
        "print(prime_numbers)\n",
        "\n",
        "prime_numbers.remove(3) # セットから3を削除\n",
        "print(prime_numbers)"
      ],
      "metadata": {
        "colab": {
          "base_uri": "https://localhost:8080/",
          "height": 331
        },
        "id": "pfMLqFm76HM0",
        "outputId": "4733b80c-2152-4225-90f2-038d1219e7cd"
      },
      "execution_count": null,
      "outputs": [
        {
          "output_type": "stream",
          "name": "stdout",
          "text": [
            "イギリス\n",
            "イギリス\n",
            "('日本', 'アメリカ', 'イギリス', 'フランス')\n",
            "{'フランス', '日本', 'イギリス', 'アメリカ'}\n",
            "{2, 3, 5, 7}\n",
            "{2, 3, 5, 7}\n"
          ]
        },
        {
          "output_type": "error",
          "ename": "TypeError",
          "evalue": "'set' object is not subscriptable",
          "traceback": [
            "\u001b[0;31m---------------------------------------------------------------------------\u001b[0m",
            "\u001b[0;31mTypeError\u001b[0m                                 Traceback (most recent call last)",
            "\u001b[0;32m<ipython-input-12-bb43cc5436c0>\u001b[0m in \u001b[0;36m<cell line: 0>\u001b[0;34m()\u001b[0m\n\u001b[1;32m     33\u001b[0m \u001b[0;34m\u001b[0m\u001b[0m\n\u001b[1;32m     34\u001b[0m \u001b[0;31m# セットの3番目の要素を表示 ⇒ できないためエラー\u001b[0m\u001b[0;34m\u001b[0m\u001b[0;34m\u001b[0m\u001b[0m\n\u001b[0;32m---> 35\u001b[0;31m \u001b[0mprint\u001b[0m\u001b[0;34m(\u001b[0m\u001b[0mprime_numbers\u001b[0m\u001b[0;34m[\u001b[0m\u001b[0;36m2\u001b[0m\u001b[0;34m]\u001b[0m\u001b[0;34m)\u001b[0m\u001b[0;34m\u001b[0m\u001b[0;34m\u001b[0m\u001b[0m\n\u001b[0m\u001b[1;32m     36\u001b[0m \u001b[0;34m\u001b[0m\u001b[0m\n\u001b[1;32m     37\u001b[0m \u001b[0;34m\u001b[0m\u001b[0m\n",
            "\u001b[0;31mTypeError\u001b[0m: 'set' object is not subscriptable"
          ]
        }
      ]
    },
    {
      "cell_type": "code",
      "source": [
        "# 1～10までに含まれる素数のセット\n",
        "prime_numbers = {2, 3, 5, 7}\n",
        "\n",
        "# セット全体を表示\n",
        "print(prime_numbers)\n",
        "\n",
        "prime_numbers.add(11) # 11をセットに追加\n",
        "print(prime_numbers)\n",
        "\n",
        "prime_numbers.remove(3) # セットから3を削除\n",
        "print(prime_numbers)"
      ],
      "metadata": {
        "colab": {
          "base_uri": "https://localhost:8080/"
        },
        "id": "PP-ZEwOM7ekb",
        "outputId": "77bbff82-05b6-4725-a018-5002f6ffa5a9"
      },
      "execution_count": null,
      "outputs": [
        {
          "output_type": "stream",
          "name": "stdout",
          "text": [
            "{2, 3, 5, 7}\n",
            "{2, 3, 5, 7, 11}\n",
            "{2, 5, 7, 11}\n"
          ]
        }
      ]
    },
    {
      "cell_type": "code",
      "source": [
        "country_names = {\"アメリカ\", \"イギリス\", \"日本\", \"フランス\"}\n",
        "\n",
        "# セット全体を表示\n",
        "print(country_names)\n",
        "\n",
        "country_names.add(\"ドイツ\") # 「ドイツ」をセットに追加\n",
        "print(country_names)\n",
        "\n",
        "country_names.remove(\"イギリス\") # セットから「イギリス」を削除\n",
        "print(country_names)"
      ],
      "metadata": {
        "colab": {
          "base_uri": "https://localhost:8080/"
        },
        "id": "OUCt4bX37o75",
        "outputId": "16b7344f-b615-4d5c-df9d-40fe6345f2a8"
      },
      "execution_count": null,
      "outputs": [
        {
          "output_type": "stream",
          "name": "stdout",
          "text": [
            "{'フランス', '日本', 'イギリス', 'アメリカ'}\n",
            "{'アメリカ', 'フランス', 'イギリス', '日本', 'ドイツ'}\n",
            "{'アメリカ', 'フランス', '日本', 'ドイツ'}\n"
          ]
        }
      ]
    },
    {
      "cell_type": "code",
      "source": [
        "user_names = [\"侍太郎\", \"侍一郎\", \"侍二郎\", \"侍三郎\", \"侍四郎\"]\n",
        "\n",
        "# 2番目の要素を更新する\n",
        "user_names[1] = \"侍花子\"\n",
        "\n",
        "# 2番目の要素を表示する\n",
        "print(user_names[1])"
      ],
      "metadata": {
        "colab": {
          "base_uri": "https://localhost:8080/"
        },
        "id": "GumI1gL0-KFY",
        "outputId": "c6da2928-cfcc-4bdb-9099-36f75fb91eea"
      },
      "execution_count": null,
      "outputs": [
        {
          "output_type": "stream",
          "name": "stdout",
          "text": [
            "侍花子\n"
          ]
        }
      ]
    },
    {
      "cell_type": "code",
      "source": [
        "stationery_prices = {\"鉛筆\": 70, \"ボールペン\": 120, \"シャープペンシル\": 150, \"消しゴム\": 90}\n",
        "\n",
        "# ボールペンの価格を取り出して表示\n",
        "print(stationery_prices[\"ボールペン\"])"
      ],
      "metadata": {
        "colab": {
          "base_uri": "https://localhost:8080/"
        },
        "id": "3JP4KgG6-1ol",
        "outputId": "bfd57093-ed12-4c62-f738-4bc993347c28"
      },
      "execution_count": null,
      "outputs": [
        {
          "output_type": "stream",
          "name": "stdout",
          "text": [
            "120\n"
          ]
        }
      ]
    },
    {
      "cell_type": "code",
      "source": [
        "sports = {1: \"サッカー\", 2: \"野球\", 3: \"バスケット\"}\n",
        "\n",
        "# キー「2」の値を「バドミントン」に書き換える\n",
        "sports[2] = \"バドミントン\"\n",
        "\n",
        "# キー「4」として「水泳」を追加する\n",
        "sports[4] = \"水泳\"\n",
        "\n",
        "# 連想配列全体を取り出して表示\n",
        "print(sports)"
      ],
      "metadata": {
        "colab": {
          "base_uri": "https://localhost:8080/"
        },
        "id": "UKvHtsQY-8tq",
        "outputId": "d6363c80-0378-442a-ce31-6ef451fe4903"
      },
      "execution_count": null,
      "outputs": [
        {
          "output_type": "stream",
          "name": "stdout",
          "text": [
            "{1: 'サッカー', 2: 'バドミントン', 3: 'バスケット', 4: '水泳'}\n"
          ]
        }
      ]
    },
    {
      "cell_type": "code",
      "source": [
        "stationery_prices = {\"鉛筆\": 70, \"ボールペン\": 120, \"シャープペンシル\": 150, \"消しゴム\": 90}\n",
        "\n",
        "# 「シャープペンシル」を要素ごと削除\n",
        "stationery_prices.pop(\"シャープペンシル\")\n",
        "\n",
        "# 連想配列全体を取り出して表示\n",
        "print(stationery_prices)"
      ],
      "metadata": {
        "colab": {
          "base_uri": "https://localhost:8080/"
        },
        "id": "AYntGzMD_IHd",
        "outputId": "cd52920c-84bc-4803-b886-c1cc2c462fcf"
      },
      "execution_count": null,
      "outputs": [
        {
          "output_type": "stream",
          "name": "stdout",
          "text": [
            "{'鉛筆': 70, 'ボールペン': 120, '消しゴム': 90}\n"
          ]
        }
      ]
    },
    {
      "cell_type": "code",
      "source": [
        "# 連想配列を作成\n",
        "personal_data = {\"name\": \"侍太郎\", \"age\": 36, \"gender\": \"男性\"}\n",
        "\n",
        "# キー「name」の値を表示\n",
        "print(personal_data[\"name\"])\n",
        "\n",
        "# 連想配列全体を表示\n",
        "print(personal_data)\n",
        "\n",
        "# キー「age」の値を更新\n",
        "personal_data[\"age\"] = 37\n",
        "\n",
        "# 新しく要素（キーと値）を追加\n",
        "personal_data[\"address\"] = \"東京都\"\n",
        "\n",
        "# 連想配列全体を表示\n",
        "print(personal_data)"
      ],
      "metadata": {
        "id": "cIf2bz0c_RDl",
        "outputId": "5798997e-846d-4c36-eb1d-7e4a9be1ce31",
        "colab": {
          "base_uri": "https://localhost:8080/"
        }
      },
      "execution_count": null,
      "outputs": [
        {
          "output_type": "stream",
          "name": "stdout",
          "text": [
            "侍太郎\n",
            "{'name': '侍太郎', 'age': 36, 'gender': '男性'}\n",
            "{'name': '侍太郎', 'age': 37, 'gender': '男性', 'address': '東京都'}\n"
          ]
        }
      ]
    },
    {
      "cell_type": "markdown",
      "source": [],
      "metadata": {
        "id": "84fd0XsW7qhD"
      }
    }
  ]
}